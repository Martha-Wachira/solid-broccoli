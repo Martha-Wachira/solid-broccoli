
# Sales Data Analysis Project (Beginner Level)

This notebook shows how to extract, clean, and visualize sales data using Python, SQL, and Excel.

### Step 1: Import Libraries
```python
import sqlite3
import pandas as pd
import matplotlib.pyplot as plt
import seaborn as sns
```

### Step 2: Connect to SQLite Database and Query Data
```python
conn = sqlite3.connect("sales_data.db")

query = '''
SELECT 
    o.order_id,
    c.name AS customer_name,
    c.region,
    p.product_name,
    o.quantity,
    p.price,
    (o.quantity * p.price) AS total_amount,
    o.order_date
FROM orders o
JOIN customers c ON o.customer_id = c.customer_id
JOIN products p ON o.product_id = p.product_id
'''
df = pd.read_sql_query(query, conn)
conn.close()
df.head()
```

### Step 3: Clean and Format Data
```python
df['order_date'] = pd.to_datetime(df['order_date'])
df.info()
```

### Step 4: Visualize Sales by Region
```python
region_sales = df.groupby("region", as_index=False)['total_amount'].sum()

plt.figure(figsize=(8, 5))
sns.barplot(data=region_sales, x="region", y="total_amount")
plt.title("Total Sales by Region")
plt.xlabel("Region")
plt.ylabel("Sales (USD)")
plt.tight_layout()
plt.show()
```

### Step 5: Export to Excel
```python
df.to_excel("Sales_Data_Analysis.xlsx", index=False)
```

---

*This is a beginner-friendly project for demonstrating data extraction, analysis, and reporting using SQL, Python, and Excel.*
